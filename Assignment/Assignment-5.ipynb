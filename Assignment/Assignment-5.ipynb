{
 "cells": [
  {
   "cell_type": "markdown",
   "metadata": {},
   "source": [
    "### 1. What does an empty dictionary's code look like?\n",
    "\n",
    "Sol:\n",
    "\n",
    "An empty dictionary is represented by `{}`.\n"
   ]
  },
  {
   "cell_type": "code",
   "execution_count": null,
   "metadata": {},
   "outputs": [],
   "source": [
    "empty_dict = {}\n",
    "print(empty_dict)  # Output: {}"
   ]
  },
  {
   "cell_type": "markdown",
   "metadata": {},
   "source": [
    "### 2. What is the value of a dictionary value with the key 'foo' and the value 42?\n",
    "\n",
    "Sol:\n",
    "\n",
    "The dictionary is `{'foo': 42}`. Accessing the key `'foo'` gives the value `42`.\n"
   ]
  },
  {
   "cell_type": "code",
   "execution_count": 1,
   "metadata": {},
   "outputs": [
    {
     "name": "stdout",
     "output_type": "stream",
     "text": [
      "42\n"
     ]
    }
   ],
   "source": [
    "my_dict = {'foo': 42}\n",
    "print(my_dict['foo'])  # Output: 42"
   ]
  },
  {
   "cell_type": "markdown",
   "metadata": {},
   "source": [
    "### 3. What is the most significant distinction between a dictionary and a list?\n",
    "\n",
    "Sol:\n",
    "\n",
    "- Dictionary: Stores key-value pairs; keys must bev unique.\n",
    "- List: Stores ordered elements accessed by their index.\n"
   ]
  },
  {
   "cell_type": "code",
   "execution_count": 2,
   "metadata": {},
   "outputs": [
    {
     "name": "stdout",
     "output_type": "stream",
     "text": [
      "1\n",
      "1\n"
     ]
    }
   ],
   "source": [
    "# Dictionary\n",
    "my_dict = {'a': 1, 'b': 2}\n",
    "print(my_dict['a'])  # Access by key: Output: 1\n",
    "\n",
    "# List\n",
    "my_list = [1, 2, 3]\n",
    "print(my_list[0])  # Access by index: Output: 1\n"
   ]
  },
  {
   "cell_type": "markdown",
   "metadata": {},
   "source": [
    "### 4. What happens if you try to access spam['foo'] if spam is {'bar': 100}?\n",
    "\n",
    "Sol:\n",
    "\n",
    "An attempt to access a non-existent key (`'foo'`) raises a `KeyError`.\n"
   ]
  },
  {
   "cell_type": "code",
   "execution_count": 3,
   "metadata": {},
   "outputs": [],
   "source": [
    "spam = {'bar': 100}\n",
    "# print(spam['foo'])  # Raises KeyError: 'foo'\n"
   ]
  },
  {
   "cell_type": "markdown",
   "metadata": {},
   "source": [
    "### 5. If a dictionary is stored in spam, what is the difference between the expressions 'cat' in spam and 'cat' in spam.keys()?\n",
    "\n",
    "Sol:\n",
    "\n",
    "Both check if `'cat'` is a key in `spam`. However:\n",
    "\n",
    "- `'cat' in spam` is shorter and preferred.\n"
   ]
  },
  {
   "cell_type": "code",
   "execution_count": 4,
   "metadata": {},
   "outputs": [
    {
     "name": "stdout",
     "output_type": "stream",
     "text": [
      "True\n",
      "True\n"
     ]
    }
   ],
   "source": [
    "spam = {'cat': 'meow', 'dog': 'bark'}\n",
    "print('cat' in spam)         # Output: True\n",
    "print('cat' in spam.keys())  # Output: True"
   ]
  },
  {
   "cell_type": "markdown",
   "metadata": {},
   "source": [
    "### 6. If a dictionary is stored in spam, what is the difference between the expressions 'cat' in spam and 'cat' in spam.values()?\n",
    "\n",
    "Sol:\n",
    "\n",
    "- `'cat' in spam`: Checks if `'cat'` is a key.\n",
    "- `'cat' in spam.values()`: Checks if `'cat'` is a value.\n",
    "\n",
    "\n"
   ]
  },
  {
   "cell_type": "code",
   "execution_count": 5,
   "metadata": {},
   "outputs": [
    {
     "name": "stdout",
     "output_type": "stream",
     "text": [
      "False\n",
      "True\n"
     ]
    }
   ],
   "source": [
    "spam = {'animal': 'cat', 'sound': 'meow'}\n",
    "print('cat' in spam)          # Output: False (not a key)\n",
    "print('cat' in spam.values()) # Output: True (is a value)\n"
   ]
  },
  {
   "cell_type": "markdown",
   "metadata": {},
   "source": [
    "### 7. What is a shortcut for the following code?\n",
    "\n",
    "Sol:\n",
    "\n",
    "The shortcut is `spam.setdefault('color', 'black')`\n",
    "\n"
   ]
  },
  {
   "cell_type": "code",
   "execution_count": 6,
   "metadata": {},
   "outputs": [],
   "source": [
    "if 'color' not in spam:\n",
    "    spam['color'] = 'black'"
   ]
  },
  {
   "cell_type": "markdown",
   "metadata": {},
   "source": [
    "### 8. How do you \"pretty print\" dictionary values using which module and function?\n",
    "\n",
    "Sol:\n",
    "\n",
    "Use the `pprint` module and the `pprint()` function."
   ]
  },
  {
   "cell_type": "code",
   "execution_count": 7,
   "metadata": {},
   "outputs": [
    {
     "name": "stdout",
     "output_type": "stream",
     "text": [
      "{'a': 1, 'b': {'x': 10, 'y': 20}, 'c': [1, 2, 3]}\n"
     ]
    }
   ],
   "source": [
    "import pprint\n",
    "\n",
    "my_dict = {'a': 1, 'b': {'x': 10, 'y': 20}, 'c': [1, 2, 3]}\n",
    "pprint.pprint(my_dict)\n",
    "# Output (formatted for readability):\n",
    "# {'a': 1,\n",
    "#  'b': {'x': 10, 'y': 20},\n",
    "#  'c': [1, 2, 3]}\n"
   ]
  }
 ],
 "metadata": {
  "kernelspec": {
   "display_name": "Python 3",
   "language": "python",
   "name": "python3"
  },
  "language_info": {
   "codemirror_mode": {
    "name": "ipython",
    "version": 3
   },
   "file_extension": ".py",
   "mimetype": "text/x-python",
   "name": "python",
   "nbconvert_exporter": "python",
   "pygments_lexer": "ipython3",
   "version": "3.11.9"
  }
 },
 "nbformat": 4,
 "nbformat_minor": 2
}
