{
 "cells": [
  {
   "cell_type": "markdown",
   "metadata": {},
   "source": [
    "### 1. In Python, what is the difference between a built-in function and a user-defined function? Provide an example of each.\n",
    "\n",
    "Sol:\n",
    "\n",
    "- **Built-in Function**: These are predefined functions provided by Python. Example: `print()`, `len()`, `type()`.\n",
    "- **user-defined function**: Functions created by the user to perform specific tasks.\n"
   ]
  },
  {
   "cell_type": "code",
   "execution_count": null,
   "metadata": {},
   "outputs": [
    {
     "name": "stdout",
     "output_type": "stream",
     "text": [
      "Hello, World!\n"
     ]
    }
   ],
   "source": [
    "# Example built-in\n",
    "\n",
    "print(\"Hello, World!\")\n",
    "\n",
    "# Example User-defined\n",
    "\n",
    "def greet(name):\n",
    "    return f\"Hello, {name}!\""
   ]
  },
  {
   "cell_type": "markdown",
   "metadata": {},
   "source": [
    "### 2. How can you pass arguments to a function in Python? Explain the difference between positional arguments and keyword arguments.\n",
    "\n",
    "Sol:\n",
    "\n",
    "- **Positional Arguments**: Arguments are passed in the order they appear.\n",
    "- **Keyword Arguments**: Arguments are passed with their names explicitly.\n"
   ]
  },
  {
   "cell_type": "code",
   "execution_count": 3,
   "metadata": {},
   "outputs": [
    {
     "name": "stdout",
     "output_type": "stream",
     "text": [
      "Alice is 25 years old.\n",
      "Alice is 25 years old.\n"
     ]
    }
   ],
   "source": [
    "# example Position Argument\n",
    "\n",
    "def greet(name, age):\n",
    "    return f\"{name} is {age} years old.\"\n",
    "\n",
    "print(greet(\"Alice\", 25))\n",
    "\n",
    "# Example Keyword Argument\n",
    "\n",
    "print(greet(age=25, name=\"Alice\"))\n"
   ]
  },
  {
   "cell_type": "markdown",
   "metadata": {},
   "source": [
    "### 3. What is the purpose of the return statement in a function? Can a function have multiple return statements? Explain with an example.\n",
    "\n",
    "Sol:\n",
    "\n",
    "The `return` statement is used to send the output of a function back to the caller. A function can have multiple `return` statements, but only one will be executed. Example:\n"
   ]
  },
  {
   "cell_type": "code",
   "execution_count": 2,
   "metadata": {},
   "outputs": [
    {
     "name": "stdout",
     "output_type": "stream",
     "text": [
      "5\n",
      "8\n"
     ]
    }
   ],
   "source": [
    "def add(a, b):\n",
    "    if b == 0:\n",
    "        return a\n",
    "    else:\n",
    "        return a + b\n",
    "\n",
    "print(add(5, 0))  # Output: 5\n",
    "print(add(5, 3))  # Output: 8\n"
   ]
  },
  {
   "cell_type": "markdown",
   "metadata": {},
   "source": [
    "### 4. What are lambda functions in Python? How are they different from regular functions? Provide an example where a lambda function can be useful.\n",
    "\n",
    "Sol: \n",
    "\n",
    "`Lambda` functions are anonymous functions defined using the lambda keyword. They differ from regular functions in that they don’t have a name. \n",
    "`Lambda` functions are useful for short, one-time operations.\n",
    "\n",
    "Example:\n",
    "\n",
    "\n",
    "\n",
    "\n"
   ]
  },
  {
   "cell_type": "code",
   "execution_count": 4,
   "metadata": {},
   "outputs": [
    {
     "name": "stdout",
     "output_type": "stream",
     "text": [
      "7\n"
     ]
    }
   ],
   "source": [
    "add = lambda x, y: x + y\n",
    "print(add(3, 4))  # Output: 7\n"
   ]
  },
  {
   "cell_type": "markdown",
   "metadata": {},
   "source": [
    "### 5. How does the concept of \"scope\" apply to functions in Python? Explain the difference between local scope and global scope.\n",
    "\n",
    "Sol:\n",
    "\n",
    "- **Local Scope**: Variables defined within a function are accessible only within that function.\n",
    "- **Global Scope**: Variables defined outside any function are accessible throughout the script.\n",
    "\n",
    "\n"
   ]
  },
  {
   "cell_type": "code",
   "execution_count": 10,
   "metadata": {},
   "outputs": [
    {
     "name": "stdout",
     "output_type": "stream",
     "text": [
      "Inside function - Local y: 5, Global x: 10\n",
      "Outside function - Global x: 10\n"
     ]
    }
   ],
   "source": [
    "# Global variable\n",
    "x = 10\n",
    "\n",
    "def example_function():\n",
    "    # Local variable\n",
    "    y = 5\n",
    "    print(f\"Inside function - Local y: {y}, Global x: {x}\")  # Accessing both local and global variables\n",
    "\n",
    "example_function()\n",
    "print(f\"Outside function - Global x: {x}\")  # Accessing global variable outside the function\n"
   ]
  },
  {
   "cell_type": "markdown",
   "metadata": {},
   "source": [
    "### 6. How can you use the \"return\" statement in a Python function to return multiple values?\n",
    "\n",
    "Sol:\n",
    "\n",
    "We can use a tuple or other structures to return multiple values from a function. Example:\n"
   ]
  },
  {
   "cell_type": "code",
   "execution_count": 5,
   "metadata": {},
   "outputs": [
    {
     "name": "stdout",
     "output_type": "stream",
     "text": [
      "('Alice', 'Johnson')\n"
     ]
    }
   ],
   "source": [
    "def split_name(full_name):\n",
    "    first_name, last_name = full_name.split()\n",
    "    return first_name, last_name\n",
    "\n",
    "print(split_name(\"Alice Johnson\"))  # Output: ('Alice', 'Johnson')\n"
   ]
  },
  {
   "cell_type": "markdown",
   "metadata": {},
   "source": [
    "### 7. What is the difference between the \"pass by value\" and \"pass by reference\" concepts when it comes to function arguments in Python?\n",
    "\n",
    "Sol:\n",
    "\n",
    "- **Pass by Value**: A copy of the value is passed to the function.\n",
    "- **Pass by Reference**: A reference to the object is passed, so changes affect the original object.\n",
    "\n"
   ]
  },
  {
   "cell_type": "code",
   "execution_count": 11,
   "metadata": {},
   "outputs": [
    {
     "name": "stdout",
     "output_type": "stream",
     "text": [
      "Pass by Value - x: 5\n",
      "Pass by Reference - y: [1, 2, 3, 5]\n"
     ]
    }
   ],
   "source": [
    "# Pass by Value\n",
    "def modify_value(a):\n",
    "    a += 10\n",
    "\n",
    "x = 5\n",
    "modify_value(x)\n",
    "print(f\"Pass by Value - x: {x}\")  # Output: 5 (unchanged)\n",
    "\n",
    "# Pass by Reference\n",
    "def modify_list(lst):\n",
    "    lst.append(5)\n",
    "\n",
    "y = [1, 2, 3]\n",
    "modify_list(y)\n",
    "print(f\"Pass by Reference - y: {y}\")  # Output: [1, 2, 3, 5]\n"
   ]
  },
  {
   "cell_type": "markdown",
   "metadata": {},
   "source": [
    "### 8. Create a function that can intake integer or decimal value and do following operations:\n",
    "    a. Logarithmic function (log x)\n",
    "    b. Exponential function (exp(x))\n",
    "    c. Power function with base 2 (2x)\n",
    "    d. Square root\n"
   ]
  },
  {
   "cell_type": "code",
   "execution_count": 6,
   "metadata": {},
   "outputs": [
    {
     "name": "stdout",
     "output_type": "stream",
     "text": [
      "(1.3862943611198906, 54.598150033144236, 16, 2.0)\n"
     ]
    }
   ],
   "source": [
    "import math\n",
    "\n",
    "def math_operations(value):\n",
    "    log_val = math.log(value)\n",
    "    exp_val = math.exp(value)\n",
    "    pow_val = 2 ** value\n",
    "    sqrt_val = math.sqrt(value)\n",
    "    return log_val, exp_val, pow_val, sqrt_val\n",
    "\n",
    "print(math_operations(4))\n"
   ]
  },
  {
   "cell_type": "markdown",
   "metadata": {},
   "source": [
    "### 9. Create a function that takes a full name as an argument and returns first name and last name."
   ]
  },
  {
   "cell_type": "code",
   "execution_count": 9,
   "metadata": {},
   "outputs": [
    {
     "name": "stdout",
     "output_type": "stream",
     "text": [
      "('Sahiti', 'Lakkoju')\n"
     ]
    }
   ],
   "source": [
    "def split_full_name(full_name):\n",
    "    first_name, last_name = full_name.split()\n",
    "    return first_name, last_name\n",
    "\n",
    "print(split_full_name(\"Sahiti Lakkoju\"))  # Output: ('John', 'Doe')"
   ]
  }
 ],
 "metadata": {
  "kernelspec": {
   "display_name": "Python 3",
   "language": "python",
   "name": "python3"
  },
  "language_info": {
   "codemirror_mode": {
    "name": "ipython",
    "version": 3
   },
   "file_extension": ".py",
   "mimetype": "text/x-python",
   "name": "python",
   "nbconvert_exporter": "python",
   "pygments_lexer": "ipython3",
   "version": "3.11.9"
  }
 },
 "nbformat": 4,
 "nbformat_minor": 2
}
