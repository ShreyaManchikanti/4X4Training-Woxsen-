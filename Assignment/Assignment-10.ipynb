{
 "cells": [
  {
   "cell_type": "markdown",
   "metadata": {},
   "source": [
    "### 1. What is the role of try and exception block?\n",
    "\n",
    "Sol:\n",
    "\n",
    "The `try` and `except` blocks are used in Python to handle exceptions (errors) that may occur during the execution of code. They allow the program to gracefully handle errors without crashing.\n"
   ]
  },
  {
   "cell_type": "markdown",
   "metadata": {},
   "source": [
    "### 2. What is the syntax for a basic try-except block?\n",
    "\n",
    "Sol:\n",
    "\n",
    "\n"
   ]
  },
  {
   "cell_type": "code",
   "execution_count": null,
   "metadata": {
    "vscode": {
     "languageId": "plaintext"
    }
   },
   "outputs": [],
   "source": [
    "try:\n",
    "    # Code that may raise an exception\n",
    "    pass\n",
    "except ExceptionType:\n",
    "    # Code to handle the exception\n",
    "    pass\n"
   ]
  },
  {
   "cell_type": "markdown",
   "metadata": {},
   "source": [
    "### 3. What happens if an exception occurs inside a try block and there is no matching except block?\n",
    "\n",
    "Sol:\n",
    "\n",
    "If an exception occurs inside a `try` block and there is no matching `except` block, the program will terminate with an error message.\n",
    "\n"
   ]
  },
  {
   "cell_type": "markdown",
   "metadata": {},
   "source": [
    "### 4. What is the difference between using a bare except block and specifying a specific exception type?\n",
    "\n",
    "Sol:\n",
    "\n",
    "- **Bare except block**: Catches all exceptions, which can lead to unintended issues because no specific exception type is handled.\n",
    "\n",
    "- **Specific exception type**: Handles only the specified exception type, making the code more precise and manageable.\n",
    "\n",
    "\n"
   ]
  },
  {
   "cell_type": "code",
   "execution_count": null,
   "metadata": {},
   "outputs": [],
   "source": [
    "#Example of Bare except block\n",
    "\n",
    "try:\n",
    "    # Code that may raise an exception\n",
    "    pass\n",
    "except:\n",
    "    # Handles any exception\n",
    "    pass\n",
    "\n",
    "\n",
    "#Example of Specific exception type\n",
    "\n",
    "try:\n",
    "    # Code that may raise an exception\n",
    "    pass\n",
    "except SpecificExceptionType:\n",
    "    # Handles the specific exception\n",
    "    pass\n"
   ]
  },
  {
   "cell_type": "markdown",
   "metadata": {},
   "source": [
    "### 5. Can you have nested try-except blocks in Python? If yes, then give an example.\n",
    "\n",
    "Sol:\n",
    "\n",
    "Yes, we can have nested try-except blocks in Python."
   ]
  },
  {
   "cell_type": "code",
   "execution_count": null,
   "metadata": {},
   "outputs": [],
   "source": [
    "try:\n",
    "    try:\n",
    "        # Inner try block\n",
    "        pass\n",
    "    except ValueError:\n",
    "        # Handling ValueError\n",
    "        pass\n",
    "except Exception:\n",
    "    # Handling any outer exception\n",
    "    pass\n"
   ]
  },
  {
   "cell_type": "markdown",
   "metadata": {},
   "source": [
    "### 6. Can we use multiple exception blocks, if yes then give an example.\n",
    "\n",
    "Sol:\n",
    "\n",
    "Yes, we can use multiple `except` blocks for different exception types.\n"
   ]
  },
  {
   "cell_type": "code",
   "execution_count": null,
   "metadata": {},
   "outputs": [],
   "source": [
    "try:\n",
    "    # Code that may raise exceptions\n",
    "    pass\n",
    "except ValueError:\n",
    "    # Handles ValueError\n",
    "    pass\n",
    "except IndexError:\n",
    "    # Handles IndexError\n",
    "    pass\n"
   ]
  },
  {
   "cell_type": "markdown",
   "metadata": {},
   "source": [
    "### 7. Write the reason due to which following errors are raised:\n",
    "    a. EOFError\n",
    "    b. FloatingPointError\n",
    "    c. IndexError\n",
    "    d. MemoryError\n",
    "    e. OverflowError\n",
    "    f. TabError\n",
    "    g. ValueError\n",
    "\n",
    "Sol:\n",
    "\n",
    "### a. EOFError\n",
    "Raised when the end of a file is reached unexpectedly (e.g., when trying to read from an empty file).\n",
    "\n",
    "\n",
    "### b. FloatingPointError\n",
    "Raised when a floating-point operation fails (e.g., division by zero).\n",
    "\n",
    "\n",
    "### c. IndexError\n",
    "Raised when trying to access an element using an invalid index.\n",
    "\n",
    "\n",
    "### d. MemoryError\n",
    "Raised when a program cannot allocate memory for an object.\n",
    "\n",
    "\n",
    "### e. OverflowError\n",
    "Raised when a numeric calculation exceeds the limits of the data type (e.g., integer overflow).\n",
    "\n",
    "\n",
    "### f. TabError\n",
    "Raised when there are inconsistent tab and space characters in indentation.\n",
    "\n",
    "\n",
    "### g. ValueError\n",
    "Raised when a function receives an argument of the correct type but with an inappropriate value.\n",
    "\n"
   ]
  },
  {
   "cell_type": "markdown",
   "metadata": {},
   "source": [
    "### 8. Write code for the following given scenario and add try-exception block to it.\n",
    "    a. Program to divide two numbers\n",
    "    b. Program to convert a string to an integer\n",
    "    c. Program to access an element in a list\n",
    "    d. Program to handle a specific exception\n",
    "    e. Program to handle any exception"
   ]
  },
  {
   "cell_type": "markdown",
   "metadata": {},
   "source": [
    "#### a. Program to divide two numbers"
   ]
  },
  {
   "cell_type": "code",
   "execution_count": null,
   "metadata": {},
   "outputs": [],
   "source": [
    "#a\n",
    "\n",
    "try:\n",
    "    num1 = int(input(\"Enter numerator: \"))\n",
    "    num2 = int(input(\"Enter denominator: \"))\n",
    "    result = num1 / num2\n",
    "    print(f\"Result: {result}\")\n",
    "except ZeroDivisionError:\n",
    "    print(\"Cannot divide by zero.\")\n",
    "except ValueError:\n",
    "    print(\"Invalid input. Please enter integers only.\")\n",
    "    \n"
   ]
  },
  {
   "cell_type": "markdown",
   "metadata": {},
   "source": [
    "#### b. Program to convert a string to an integer"
   ]
  },
  {
   "cell_type": "code",
   "execution_count": null,
   "metadata": {},
   "outputs": [],
   "source": [
    "try:\n",
    "    user_input = input(\"Enter a number: \")\n",
    "    num = int(user_input)\n",
    "    print(f\"Converted number: {num}\")\n",
    "except ValueError:\n",
    "    print(\"Invalid input. Please enter a valid integer.\")\n"
   ]
  },
  {
   "cell_type": "markdown",
   "metadata": {},
   "source": [
    "#### c. Program to access an element in a list"
   ]
  },
  {
   "cell_type": "code",
   "execution_count": null,
   "metadata": {},
   "outputs": [],
   "source": [
    "try:\n",
    "    my_list = [10, 20, 30]\n",
    "    index = int(input(\"Enter index: \"))\n",
    "    print(f\"Element at index {index}: {my_list[index]}\")\n",
    "except IndexError:\n",
    "    print(\"Index out of range.\")\n",
    "except ValueError:\n",
    "    print(\"Invalid input. Please enter a valid integer.\")\n"
   ]
  },
  {
   "cell_type": "markdown",
   "metadata": {},
   "source": [
    "#### d. Program to handle a specific exception"
   ]
  },
  {
   "cell_type": "code",
   "execution_count": null,
   "metadata": {},
   "outputs": [],
   "source": [
    "try:\n",
    "    data = int(input(\"Enter a number: \"))\n",
    "    if data < 0:\n",
    "        raise ValueError(\"Negative values are not allowed.\")\n",
    "    print(f\"Valid input: {data}\")\n",
    "except ValueError as e:\n",
    "    print(f\"Error: {e}\")\n"
   ]
  },
  {
   "cell_type": "markdown",
   "metadata": {},
   "source": [
    "#### e. Program to handle any exception"
   ]
  },
  {
   "cell_type": "code",
   "execution_count": null,
   "metadata": {},
   "outputs": [],
   "source": [
    "try:\n",
    "    result = 10 / 0\n",
    "except Exception as e:\n",
    "    print(f\"An error occurred: {e}\")\n"
   ]
  }
 ],
 "metadata": {
  "language_info": {
   "name": "python"
  }
 },
 "nbformat": 4,
 "nbformat_minor": 2
}
