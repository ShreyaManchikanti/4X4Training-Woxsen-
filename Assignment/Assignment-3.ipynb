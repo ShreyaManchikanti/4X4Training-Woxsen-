{
 "cells": [
  {
   "cell_type": "markdown",
   "metadata": {},
   "source": [
    "### 1. Why are functions advantageous to have in your programs?\n",
    "\n",
    "Sol:\n",
    "\n",
    "Functions are advantageous because they:\n",
    "- Help in organizing code into reusable blocks.\n",
    "- Improve code readability and maintainability.\n",
    "- Allow code to be easily modified or updated in a single place.\n",
    "- Facilitate debugging by breaking down complex tasks into simpler, manageable components."
   ]
  },
  {
   "cell_type": "markdown",
   "metadata": {},
   "source": [
    "### 2. When does the code in a function run: when it's specified or when it's called?\n",
    "\n",
    "Sol:\n",
    "\n",
    "The code in a function runs **when it's called**.\n",
    "\n"
   ]
  },
  {
   "cell_type": "markdown",
   "metadata": {},
   "source": [
    "### 3. What statement creates a function?\n",
    "\n",
    "Sol:\n"
   ]
  },
  {
   "cell_type": "code",
   "execution_count": null,
   "metadata": {},
   "outputs": [],
   "source": [
    "def function_name(parameter):\n",
    "    #statements / function body"
   ]
  },
  {
   "cell_type": "markdown",
   "metadata": {},
   "source": [
    "### 4. What is the difference between a function and a function call?\n",
    "\n",
    "Sol:\n",
    "\n",
    "- **Function**: A defined block of reusable code that performs a specific task.\n",
    "- **Function call**: Invokes the function, executing the code defined within it."
   ]
  },
  {
   "cell_type": "markdown",
   "metadata": {},
   "source": [
    "### 5. How many global scopes are there in a Python program? How many local scopes?\n",
    "\n",
    "Sol:\n",
    "\n",
    "In a Python program:\n",
    "- There is **one global scope**.\n",
    "- There can be multiple **local scopes**, depending on the number of functions."
   ]
  },
  {
   "cell_type": "markdown",
   "metadata": {},
   "source": [
    "### 6. What happens to variables in a local scope when the function call returns?\n",
    "\n",
    "Sol:\n",
    "\n",
    "When the function call returns, the variables in a local scope are **discarded** and are no longer accessible.\n"
   ]
  },
  {
   "cell_type": "markdown",
   "metadata": {},
   "source": [
    "### 7. What is the concept of a return value? Is it possible to have a return value in an expression?\n",
    "\n",
    "Sol:\n",
    "\n",
    "- The concept of a return value is that it is the result that a function produces when it completes execution.  \n",
    "- Yes, it is possible to have a return value in an expression.\n",
    "\n"
   ]
  },
  {
   "cell_type": "markdown",
   "metadata": {},
   "source": [
    "### 8. If a function does not have a return statement, what is the return value of a call to that function?\n",
    "\n",
    "Sol:\n",
    "\n",
    "**None**\n"
   ]
  },
  {
   "cell_type": "markdown",
   "metadata": {},
   "source": [
    "### 9. How do you make a function variable refer to the global variable?\n",
    "\n",
    "Sol:\n",
    "\n",
    "To make a function variable refer to a global variable, we use the `global` keyword:\n"
   ]
  },
  {
   "cell_type": "code",
   "execution_count": null,
   "metadata": {},
   "outputs": [],
   "source": [
    "global_var = 10\n",
    "\n",
    "def example_func():\n",
    "    global global_var\n",
    "    global_var += 1"
   ]
  },
  {
   "cell_type": "markdown",
   "metadata": {},
   "source": [
    "### 10. What is the data type of None?\n",
    "\n",
    "Sol:\n",
    "\n",
    "The data type of `None` is:\n",
    "- **NoneType**\n"
   ]
  },
  {
   "cell_type": "markdown",
   "metadata": {},
   "source": [
    "### 11. What does the sentence import areallyourpetsnamederic do?\n",
    "\n",
    "Sol:\n",
    "\n",
    "The sentence `import areallyourpetsnamederic` will generate a **ModuleNotFoundError** because the module name is not valid.\n"
   ]
  },
  {
   "cell_type": "markdown",
   "metadata": {},
   "source": [
    "### 12. If you had a bacon() feature in a spam module, what would you call it after importing spam?\n"
   ]
  },
  {
   "cell_type": "code",
   "execution_count": null,
   "metadata": {},
   "outputs": [],
   "source": [
    "import spam\n",
    "spam.bacon()"
   ]
  },
  {
   "cell_type": "markdown",
   "metadata": {},
   "source": [
    "### 13. What can you do to save a programme from crashing if it encounters an error?\n",
    "\n",
    "Sol:\n",
    "\n",
    "To save a program from crashing if it encounters an error, we can use:\n",
    "- **Exception handling** with a `try-except` block."
   ]
  },
  {
   "cell_type": "markdown",
   "metadata": {},
   "source": [
    "### 14. What is the purpose of the try clause? What is the purpose of the except clause?\n",
    "\n",
    "Sol:\n",
    "\n",
    "- **try** clause: Defines the code that may raise an exception.\n",
    "- **except** clause: Handles the exception if it occurs, allowing the program to continue running smoothly.\n"
   ]
  }
 ],
 "metadata": {
  "language_info": {
   "name": "python"
  }
 },
 "nbformat": 4,
 "nbformat_minor": 2
}
