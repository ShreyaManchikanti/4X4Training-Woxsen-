{
 "cells": [
  {
   "cell_type": "markdown",
   "metadata": {},
   "source": [
    "### 1. What is the role of the 'else' block in a try-except statement? Provide an example scenario where it would be useful.\n",
    "\n",
    "Sol:\n",
    "\n",
    "The `else` block in a try-except statement is executed if no exception is raised in the `try` block. It is useful for code that should only run if the `try` block completes successfully.\n"
   ]
  },
  {
   "cell_type": "code",
   "execution_count": 6,
   "metadata": {},
   "outputs": [
    {
     "name": "stdout",
     "output_type": "stream",
     "text": [
      "Result: 0.5\n"
     ]
    }
   ],
   "source": [
    "try:\n",
    "    x = int(input(\"Enter a number: \"))\n",
    "    result = 10 / x\n",
    "except ZeroDivisionError:\n",
    "    print(\"Division by zero is not allowed.\")\n",
    "else:\n",
    "    print(f\"Result: {result}\")\n"
   ]
  },
  {
   "cell_type": "markdown",
   "metadata": {},
   "source": [
    "### 2. Can a try-except block be nested inside another try-except block? Explain with an example.\n",
    "\n",
    "Sol:\n",
    "\n",
    "Yes, a try-except block can be nested inside another try-except block. This is useful when handling multiple layers of exceptions that might occur at different stages.\n"
   ]
  },
  {
   "cell_type": "code",
   "execution_count": null,
   "metadata": {},
   "outputs": [],
   "source": [
    "try:\n",
    "    try:\n",
    "        x = int(input(\"Enter a number: \"))\n",
    "    except ValueError:\n",
    "        print(\"Invalid input. Please enter an integer.\")\n",
    "    result = 10 / x\n",
    "except ZeroDivisionError:\n",
    "    print(\"Division by zero is not allowed.\")\n"
   ]
  },
  {
   "cell_type": "markdown",
   "metadata": {},
   "source": [
    "### 3. How can you create a custom exception class in Python? Provide an example that demonstrates its usage.\n",
    "\n",
    "Sol:\n",
    "\n",
    "You can create a custom exception class by defining a new class that inherits from the `Exception` class.\n"
   ]
  },
  {
   "cell_type": "code",
   "execution_count": 7,
   "metadata": {},
   "outputs": [
    {
     "name": "stdout",
     "output_type": "stream",
     "text": [
      "Age must be 18 or older.\n"
     ]
    }
   ],
   "source": [
    "class MyCustomError(Exception):\n",
    "    pass\n",
    "\n",
    "def check_age(age):\n",
    "    if age < 18:\n",
    "        raise MyCustomError(\"Age must be 18 or older.\")\n",
    "\n",
    "try:\n",
    "    check_age(16)\n",
    "except MyCustomError as e:\n",
    "    print(e)\n"
   ]
  },
  {
   "cell_type": "markdown",
   "metadata": {},
   "source": [
    "### 4. What are some common exceptions that are built-in to Python?\n",
    "\n",
    "Sol:\n",
    "\n",
    "Some common built-in exceptions in Python include:\n",
    "\n",
    "- ValueError\n",
    "- TypeError\n",
    "- IndexError\n",
    "- KeyError\n",
    "- ZeroDivisionError\n",
    "- FileNotFoundError"
   ]
  },
  {
   "cell_type": "markdown",
   "metadata": {},
   "source": [
    "### 5. What is logging in Python, and why is it important in software development?\n",
    "\n",
    "Sol:\n",
    "\n",
    "Logging in Python is a standard way to record messages during the execution of a program for debugging, error tracking, and performance monitoring. It provides a systematic approach to capturing and managing logs, making it easier to diagnose issues.\n",
    "\n"
   ]
  },
  {
   "cell_type": "markdown",
   "metadata": {},
   "source": [
    "### 6. Explain the purpose of log levels in Python logging and provide examples of when each log level would be appropriate.\n",
    "\n",
    "Sol:\n",
    "\n",
    "Log levels in Python allow you to filter and manage logs at different severity levels:\n",
    "\n",
    "- DEBUG: Used for detailed debugging information.\n",
    "- INFO: Used for general information and progress updates.\n",
    "- WARNING: Used for warning messages about potential issues.\n",
    "- ERROR: Used for error messages when something fails.\n",
    "- CRITICAL: Used for critical issues that require immediate attention.\n"
   ]
  },
  {
   "cell_type": "code",
   "execution_count": 1,
   "metadata": {},
   "outputs": [
    {
     "name": "stderr",
     "output_type": "stream",
     "text": [
      "DEBUG:root:This is a debug message.\n",
      "INFO:root:This is an info message.\n",
      "WARNING:root:This is a warning message.\n",
      "ERROR:root:This is an error message.\n",
      "CRITICAL:root:This is a critical message.\n"
     ]
    }
   ],
   "source": [
    "import logging\n",
    "\n",
    "logging.basicConfig(level=logging.DEBUG)\n",
    "\n",
    "logging.debug(\"This is a debug message.\")\n",
    "logging.info(\"This is an info message.\")\n",
    "logging.warning(\"This is a warning message.\")\n",
    "logging.error(\"This is an error message.\")\n",
    "logging.critical(\"This is a critical message.\")\n"
   ]
  },
  {
   "cell_type": "markdown",
   "metadata": {},
   "source": [
    "### 7. What are log formatters in Python logging, and how can you customise the log message format using formatters?\n",
    "\n",
    "Sol:\n",
    "\n",
    "Log formatters define how the log messages are formatted. You can customize the format to include specific information such as time, log level, message, etc.\n",
    "\n",
    "\n"
   ]
  },
  {
   "cell_type": "code",
   "execution_count": 2,
   "metadata": {},
   "outputs": [
    {
     "name": "stderr",
     "output_type": "stream",
     "text": [
      "INFO:root:This is an info message.\n"
     ]
    }
   ],
   "source": [
    "import logging\n",
    "\n",
    "formatter = logging.Formatter('%(asctime)s - %(levelname)s - %(message)s')\n",
    "\n",
    "logging.basicConfig(level=logging.INFO, format='%(asctime)s - %(levelname)s - %(message)s')\n",
    "logger = logging.getLogger()\n",
    "\n",
    "logger.info(\"This is an info message.\")\n"
   ]
  },
  {
   "cell_type": "markdown",
   "metadata": {},
   "source": [
    "### 8. How can you set up logging to capture log messages from multiple modules or classes in a Python application?\n",
    "\n",
    "Sol:\n",
    "\n",
    "You can set up logging to capture messages from multiple modules or classes by configuring a logger for each module or class, or by setting a global logger that logs messages from various modules."
   ]
  },
  {
   "cell_type": "code",
   "execution_count": 3,
   "metadata": {},
   "outputs": [
    {
     "name": "stderr",
     "output_type": "stream",
     "text": [
      "INFO:module1:Message from module1\n",
      "ERROR:module2:Message from module2\n"
     ]
    }
   ],
   "source": [
    "import logging\n",
    "\n",
    "# Module-level logging\n",
    "logger1 = logging.getLogger('module1')\n",
    "logger1.setLevel(logging.INFO)\n",
    "\n",
    "logger2 = logging.getLogger('module2')\n",
    "logger2.setLevel(logging.ERROR)\n",
    "\n",
    "logger1.info(\"Message from module1\")\n",
    "logger2.error(\"Message from module2\")\n"
   ]
  },
  {
   "cell_type": "markdown",
   "metadata": {},
   "source": [
    "### 9. What is the difference between the logging and print statements in Python? When should you use logging over print statements in a real-world application?\n",
    "\n",
    "Sol:\n",
    "\n",
    "The difference between logging and print statements is that:\n",
    "\n",
    "- Logging allows you to manage log levels, output formatting, and redirection to files or other destinations.\n",
    "- Print statements are simple and output directly to the console.\n",
    "\n",
    "Use logging over print statements in real-world applications for:\n",
    "\n",
    "- Better control and management of output.\n",
    "- Recording and persisting logs for analysis.\n",
    "- Filtering and categorizing logs based on severity levels.\n",
    "\n"
   ]
  },
  {
   "cell_type": "markdown",
   "metadata": {},
   "source": [
    "### 10. Write a Python program that logs a message to a file named \"app.log\" with the following requirements:\n",
    "- The log message should be \"Hello, World!\"\n",
    "- The log level should be set to \"INFO.\"\n",
    "- The log file should append new log entries without overwriting previous ones.\n"
   ]
  },
  {
   "cell_type": "code",
   "execution_count": 4,
   "metadata": {},
   "outputs": [
    {
     "name": "stderr",
     "output_type": "stream",
     "text": [
      "INFO:root:Hello, World!\n"
     ]
    }
   ],
   "source": [
    "import logging\n",
    "\n",
    "logging.basicConfig(filename='app.log', level=logging.INFO, \n",
    "                    format='%(asctime)s - %(levelname)s - %(message)s')\n",
    "logging.info(\"Hello, World!\")\n"
   ]
  },
  {
   "cell_type": "markdown",
   "metadata": {},
   "source": [
    "### 11. Create a Python program that logs an error message to the console and a file named \"errors.log\" if an exception occurs during the program's execution. The error message should include the exception type and a timestamp. "
   ]
  },
  {
   "cell_type": "code",
   "execution_count": 5,
   "metadata": {},
   "outputs": [
    {
     "name": "stderr",
     "output_type": "stream",
     "text": [
      "ERROR:root:Exception: division by zero\n"
     ]
    },
    {
     "name": "stdout",
     "output_type": "stream",
     "text": [
      "An error occurred: division by zero\n"
     ]
    }
   ],
   "source": [
    "import logging\n",
    "\n",
    "logging.basicConfig(filename='errors.log', level=logging.ERROR,\n",
    "                    format='%(asctime)s - %(levelname)s - %(message)s')\n",
    "\n",
    "try:\n",
    "    result = 10 / 0\n",
    "except Exception as e:\n",
    "    logging.error(f\"Exception: {e}\")\n",
    "    print(f\"An error occurred: {e}\")\n"
   ]
  }
 ],
 "metadata": {
  "kernelspec": {
   "display_name": "Python 3",
   "language": "python",
   "name": "python3"
  },
  "language_info": {
   "codemirror_mode": {
    "name": "ipython",
    "version": 3
   },
   "file_extension": ".py",
   "mimetype": "text/x-python",
   "name": "python",
   "nbconvert_exporter": "python",
   "pygments_lexer": "ipython3",
   "version": "3.11.9"
  }
 },
 "nbformat": 4,
 "nbformat_minor": 2
}
