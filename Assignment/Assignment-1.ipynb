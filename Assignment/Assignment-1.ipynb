{
 "cells": [
  {
   "cell_type": "markdown",
   "metadata": {},
   "source": [
    "## Assignment - 1\n",
    "### -- Sahiti Lakkoju"
   ]
  },
  {
   "cell_type": "markdown",
   "metadata": {},
   "source": [
    "### 1. In the below elements which of them are values or an expression? eg:- values can be integer or string and expressions will be mathematical operators.\n",
    "\n",
    "- `*` - Expression (mathematical operator)  \n",
    "- `'hello'` - Value (string)  \n",
    "- `-87.8` - Value (floating-point number)  \n",
    "- `-` - Expression (mathematical operator)  \n",
    "- `/` - Expression (mathematical operator)  \n",
    "- `+` - Expression (mathematical operator)  \n",
    "- `6` - Value (integer)  \n"
   ]
  },
  {
   "cell_type": "markdown",
   "metadata": {},
   "source": [
    "### 2. What is the difference between string and variable?\n",
    "\n",
    "- **String**: A sequence of characters enclosed in quotes (e.g., `'hello'`, `\"123\"`). It is a type of data.\n",
    "- **Variable**: A named reference that stores data. For example, in `x = 5`, `x` is a variable that holds the value `5`.\n"
   ]
  },
  {
   "cell_type": "markdown",
   "metadata": {},
   "source": [
    "### 3. Describe three different data types.\n",
    "\n",
    "Three Different Data Types:\n",
    "1. **Integer**: Represents whole numbers (e.g., `10`, `-5`).\n",
    "2. **Float**: Represents decimal numbers (e.g., `3.14`, `-0.99`).\n",
    "3. **String**: Represents a sequence of characters enclosed in quotes (e.g., `'hello'`, `\"Python\"`)."
   ]
  },
  {
   "cell_type": "markdown",
   "metadata": {},
   "source": [
    "### 4. What is an expression made up of? What do all expressions do?\n",
    "\n",
    "An expression is made up of **values**, **variables**, and **operators**, often combined together to produce a result. For example:\n",
    "- **Values**: Numbers, strings, or other data types (e.g., `5`, `'hello'`).\n",
    "- **Variables**: Names that store data (e.g., `x`, `y`).\n",
    "- **Operators**: Symbols that perform operations on values or variables (e.g., `+`, `-`, `*`, `/`).\n",
    "\n",
    "\n",
    "All expressions are evaluated by Python to produce a value. This value can then be used in further calculations, assignments, or operations. For example:\n",
    "- `2 + 3` evaluates to `5`.\n",
    "- `'hello' + ' world'` evaluates to `'hello world'`.\n",
    "- `x * 10` (if `x = 2`) evaluates to `20`.\n",
    "\n",
    "\n",
    "\n"
   ]
  },
  {
   "cell_type": "markdown",
   "metadata": {},
   "source": [
    "### 5. This assignment statements, like spam = 10. What is the difference between an expression and a statement?\n",
    "\n",
    "\n",
    "- **Expression**:\n",
    "  - An expression is a combination of values, variables, and operators that Python evaluates to produce a value.\n",
    "  - Example: `5 + 3` evaluates to `8`, and `'hello' + ' world'` evaluates to `'hello world'`.\n",
    "  - Expressions are used to compute or produce a result.\n",
    "\n",
    "- **Statement**:\n",
    "  - A statement is an instruction that performs an action but does not necessarily produce a value.\n",
    "  - Example: `spam = 10` is a statement that assigns the value `10` to the variable `spam`.\n",
    "  - Statements are used to execute actions like assignments, loops, and function definitions.\n",
    "\n",
    "**Key Difference**: \n",
    "- An expression always evaluates to a value, whereas a statement performs an action and may not produce a result directly.\n"
   ]
  },
  {
   "cell_type": "markdown",
   "metadata": {},
   "source": [
    "### 6. After running the following code, what does the variable bacon contain?\n",
    "    bacon = 22\n",
    "    bacon + 1\n",
    "\n",
    "**bacon** variable contains 22.\n",
    "\n",
    "- Initially, bacon is assigned the value `22`.\n",
    "- The expression `bacon + 1` evaluates to `23`, but no assignment is made to bacon.\n",
    "- Thus, bacon remains unchanged at `22`.\n"
   ]
  },
  {
   "cell_type": "code",
   "execution_count": 4,
   "metadata": {},
   "outputs": [
    {
     "name": "stdout",
     "output_type": "stream",
     "text": [
      "22\n"
     ]
    }
   ],
   "source": [
    "bacon = 22\n",
    "bacon + 1\n",
    "print(bacon)"
   ]
  },
  {
   "cell_type": "markdown",
   "metadata": {},
   "source": [
    "### 7. What should the values of the following two terms be?\n",
    "    'spam' + 'spamspam'\n",
    "    'spam' * 3\n",
    "\n",
    "1. `'spam' + 'spamspam'`  \n",
    "   - This is a **string concatenation** operation.  \n",
    "   - The strings `'spam'` and `'spamspam'` are joined together.  \n",
    "   - **Result**: `'spamspamspam'`.\n",
    "\n",
    "2. `'spam' * 3`  \n",
    "   - This is a **string repetition** operation.  \n",
    "   - The string `'spam'` is repeated 3 times.  \n",
    "   - **Result**: `'spamspamspam'`."
   ]
  },
  {
   "cell_type": "code",
   "execution_count": 3,
   "metadata": {},
   "outputs": [
    {
     "name": "stdout",
     "output_type": "stream",
     "text": [
      "spamspamspam\n",
      "spamspamspam\n"
     ]
    }
   ],
   "source": [
    "print('spam' + 'spamspam')\n",
    "print('spam' * 3)"
   ]
  },
  {
   "cell_type": "markdown",
   "metadata": {},
   "source": [
    "### 8. Why is eggs a valid variable name while 100 is invalid?\n",
    "\n",
    "1. **Variable Naming Rules**:\n",
    "   - A valid variable name must start with a letter (A-Z or a-z) or an underscore (`_`).\n",
    "   - Subsequent characters can include letters, numbers (0-9), and underscores.\n",
    "\n",
    "2. **Explanation**:\n",
    "   - **`eggs`** is valid because it starts with a letter.\n",
    "   - **`100`** is invalid because it starts with a digit, which is not allowed.\n",
    "\n",
    "Thus, variable names cannot start with a number, even though numbers can appear later in the name (e.g., `egg100` is valid).\n"
   ]
  },
  {
   "cell_type": "markdown",
   "metadata": {},
   "source": [
    "### 9. What three functions can be used to get the integer, floating-point number, or string version of a value?\n",
    "\n",
    "1. **`int()`** - Converts a value to an integer.  \n",
    "   Example: `int(3.14)` → `3`.\n",
    "\n",
    "2. **`float()`** - Converts a value to a floating-point number.  \n",
    "   Example: `float('5')` → `5.0`.\n",
    "\n",
    "3. **`str()`** - Converts a value to a string.  \n",
    "   Example: `str(100)` → `'100'`.\n"
   ]
  },
  {
   "cell_type": "markdown",
   "metadata": {},
   "source": [
    "### 10. Why does this expression cause an error? How can you fix it?\n",
    "    'I have eaten ' + 99 + ' burritos.'\n",
    "\n",
    "\n",
    "**Error**:  \n",
    "- This expression causes an error because Python cannot concatenate a string (`'I have eaten '`) with an integer (`99`).  \n",
    "- Python expects both operands to be strings when using the `+` operator for concatenation.\n",
    "\n",
    "**Fix**:\n",
    "- Convert the integer `99` to a string using `str()`.  \n",
    "  Corrected expression:  \n",
    "  'I have eaten ' + str(99) + ' burritos.'"
   ]
  },
  {
   "cell_type": "code",
   "execution_count": null,
   "metadata": {},
   "outputs": [
    {
     "name": "stdout",
     "output_type": "stream",
     "text": [
      "I have eaten 99 burritos.\n"
     ]
    }
   ],
   "source": [
    "# print('I have eaten ' + 99 + ' burritos.') #error\n",
    "print('I have eaten ' + str(99) + ' burritos.') # correct expression"
   ]
  }
 ],
 "metadata": {
  "kernelspec": {
   "display_name": "Python 3",
   "language": "python",
   "name": "python3"
  },
  "language_info": {
   "codemirror_mode": {
    "name": "ipython",
    "version": 3
   },
   "file_extension": ".py",
   "mimetype": "text/x-python",
   "name": "python",
   "nbconvert_exporter": "python",
   "pygments_lexer": "ipython3",
   "version": "3.11.9"
  }
 },
 "nbformat": 4,
 "nbformat_minor": 2
}
