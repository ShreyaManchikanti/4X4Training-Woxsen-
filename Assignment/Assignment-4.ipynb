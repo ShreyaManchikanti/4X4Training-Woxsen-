{
 "cells": [
  {
   "cell_type": "markdown",
   "metadata": {},
   "source": [
    "### 1. What exactly is []?\n",
    "\n",
    "Sol:\n",
    "\n",
    "`[]` represents an empty list in Python. It is a data structure used to store a collection of items.\n",
    "\n"
   ]
  },
  {
   "cell_type": "markdown",
   "metadata": {},
   "source": [
    "### 2. In a list of values stored in a variable called spam, how would you assign the value 'hello' as the third value? (Assume [2, 4, 6, 8, 10] are in spam.)\n",
    "Let's pretend the spam includes the list ['a', 'b', 'c', 'd'] for the next three queries.\n",
    "\n",
    "Sol:\n",
    "\n",
    "Assuming `spam = ['a', 'b', 'c', 'd']`, you can assign `'hello'` as the third value by using:  "
   ]
  },
  {
   "cell_type": "code",
   "execution_count": 1,
   "metadata": {},
   "outputs": [
    {
     "name": "stdout",
     "output_type": "stream",
     "text": [
      "['a', 'b', 'hello', 'd']\n"
     ]
    }
   ],
   "source": [
    "spam = ['a', 'b', 'c', 'd']\n",
    "spam[2] = 'hello'\n",
    "print(spam)"
   ]
  },
  {
   "cell_type": "markdown",
   "metadata": {},
   "source": [
    "### 3. What is the value of spam[int(int('3' * 2) / 11)]?\n",
    "\n",
    "Sol:\n",
    "\n",
    "Assuming `spam = ['a', 'b', 'c', 'd']`:\n",
    "\n",
    "1. `'3' * 2` creates the string `'33'`.\n",
    "2. `int('33')` converts `'33'` to the integer `33`.\n",
    "3. `33 / 11` results in `3`.\n",
    "4. `int(3)` is still `3`.\n",
    "\n",
    "Thus, `spam[3]` is `'d'`.\n",
    "\n",
    "**Answer**: `'d'`"
   ]
  },
  {
   "cell_type": "code",
   "execution_count": 5,
   "metadata": {},
   "outputs": [
    {
     "data": {
      "text/plain": [
       "'d'"
      ]
     },
     "execution_count": 5,
     "metadata": {},
     "output_type": "execute_result"
    }
   ],
   "source": [
    "spam = ['a', 'b', 'c', 'd']\n",
    "spam[int(int('3' * 2) / 11)]"
   ]
  },
  {
   "cell_type": "markdown",
   "metadata": {},
   "source": [
    "### 4. What is the value of spam[-1]?\n",
    "\n",
    "Sol:\n",
    "\n",
    "The last element of the list `spam = ['a', 'b', 'c', 'd']` is `'d'`.\n",
    "\n",
    "**Answer**: `'d'`\n"
   ]
  },
  {
   "cell_type": "code",
   "execution_count": 4,
   "metadata": {},
   "outputs": [
    {
     "data": {
      "text/plain": [
       "'d'"
      ]
     },
     "execution_count": 4,
     "metadata": {},
     "output_type": "execute_result"
    }
   ],
   "source": [
    "spam = ['a', 'b', 'c', 'd']\n",
    "spam[-1]"
   ]
  },
  {
   "cell_type": "markdown",
   "metadata": {},
   "source": [
    "### 5. What is the value of spam[:2]?\n",
    "\n",
    "The slice `[:2]` retrieves the first two elements of the list `spam = [3.14, 'cat,' 11, 'cat,' True]`.\n",
    "\n",
    "**Answer**: `[3.14, 'cat']`"
   ]
  },
  {
   "cell_type": "code",
   "execution_count": null,
   "metadata": {},
   "outputs": [
    {
     "data": {
      "text/plain": [
       "[3.14, 'cat']"
      ]
     },
     "execution_count": 3,
     "metadata": {},
     "output_type": "execute_result"
    }
   ],
   "source": [
    "spam = [3.14, 'cat', 11, 'cat', True]\n",
    "spam[:2]"
   ]
  },
  {
   "cell_type": "markdown",
   "metadata": {},
   "source": [
    "### 6. What is the value of bacon.index('cat')?\n",
    "Let's pretend bacon has the list [3.14, 'cat,' 11, 'cat,' True] for the next three questions.\n",
    "\n",
    "Sol:\n",
    "\n",
    "Assuming `bacon = [3.14, 'cat', 11, 'cat', True]`:\n",
    "\n",
    "The `index()` method returns the first occurrence of `'cat'`, which is at index `1`.\n",
    "\n",
    "**Answer**: `1`\n"
   ]
  },
  {
   "cell_type": "code",
   "execution_count": 6,
   "metadata": {},
   "outputs": [
    {
     "data": {
      "text/plain": [
       "1"
      ]
     },
     "execution_count": 6,
     "metadata": {},
     "output_type": "execute_result"
    }
   ],
   "source": [
    "bacon = [3.14, 'cat', 11, 'cat', True]\n",
    "bacon.index('cat')"
   ]
  },
  {
   "cell_type": "markdown",
   "metadata": {},
   "source": [
    "### 7. How does bacon.append(99) change the look of the list value in bacon?\n",
    "\n",
    "Sol:\n",
    "\n",
    "The `append()` method adds `99` to the end of the list.\n",
    "\n",
    "- **Before**: `bacon = [3.14, 'cat', 11, 'cat', True]`\n",
    "- **After**: `bacon = [3.14, 'cat', 11, 'cat', True, 99]`\n"
   ]
  },
  {
   "cell_type": "markdown",
   "metadata": {},
   "source": [
    "### 8. How does bacon.remove('cat') change the look of the list in bacon?\n",
    "\n",
    "Sol:\n",
    "\n",
    "The `remove()` method removes the first occurrence of `'cat'`.\n",
    "\n",
    "- **Before**: `bacon = [3.14, 'cat', 11, 'cat', True]`\n",
    "- **After**: `bacon = [3.14, 11, 'cat', True]`"
   ]
  },
  {
   "cell_type": "markdown",
   "metadata": {},
   "source": [
    "### 9. What are the list concatenation and list replication operators?\n",
    "\n",
    "Sol:\n",
    "- **Concatenation**: `+`\n",
    "- **Replication**: `*`\n"
   ]
  },
  {
   "cell_type": "code",
   "execution_count": 7,
   "metadata": {},
   "outputs": [
    {
     "name": "stdout",
     "output_type": "stream",
     "text": [
      "[1, 2, 3, 4, 5, 6]\n",
      "['a', 'b', 'a', 'b', 'a', 'b']\n"
     ]
    }
   ],
   "source": [
    "# Concatenation\n",
    "list1 = [1, 2, 3]\n",
    "list2 = [4, 5, 6]\n",
    "print(list1 + list2)  # Output: [1, 2, 3, 4, 5, 6]\n",
    "\n",
    "# Replication\n",
    "list3 = ['a', 'b']\n",
    "print(list3 * 3)  # Output: ['a', 'b', 'a', 'b', 'a', 'b']\n"
   ]
  },
  {
   "cell_type": "markdown",
   "metadata": {},
   "source": [
    "### 10. What is difference between the list methods append() and insert()?\n",
    "\n",
    "Sol:\n",
    "\n",
    "- `append()`: Adds an item to the end of the list.\n",
    "- `insert(index, item)`: Adds an item at a specified index in the list.\n"
   ]
  },
  {
   "cell_type": "code",
   "execution_count": 8,
   "metadata": {},
   "outputs": [
    {
     "name": "stdout",
     "output_type": "stream",
     "text": [
      "[1, 2, 3, 4]\n",
      "[1, 'a', 2, 3, 4]\n"
     ]
    }
   ],
   "source": [
    "# append()\n",
    "my_list = [1, 2, 3]\n",
    "my_list.append(4)\n",
    "print(my_list)  # Output: [1, 2, 3, 4]\n",
    "\n",
    "# insert()\n",
    "my_list.insert(1, 'a')\n",
    "print(my_list)  # Output: [1, 'a', 2, 3, 4]\n"
   ]
  },
  {
   "cell_type": "markdown",
   "metadata": {},
   "source": [
    "### 11. What are the two methods for removing items from a list?\n",
    "\n",
    "Sol:\n",
    "\n",
    "1. `remove(item)`: Removes the first occurrence of the specified item.\n",
    "2. `pop(index)`: Removes and returns the item at the specified index (default is the last item).\n",
    "\n"
   ]
  },
  {
   "cell_type": "code",
   "execution_count": 9,
   "metadata": {},
   "outputs": [
    {
     "name": "stdout",
     "output_type": "stream",
     "text": [
      "[1, 3, 4]\n",
      "4\n",
      "[1, 3]\n"
     ]
    }
   ],
   "source": [
    "my_list = [1, 2, 3, 4]\n",
    "\n",
    "# remove()\n",
    "my_list.remove(2)\n",
    "print(my_list)  # Output: [1, 3, 4]\n",
    "\n",
    "# pop()\n",
    "popped_item = my_list.pop()\n",
    "print(popped_item)  # Output: 4\n",
    "print(my_list)      # Output: [1, 3]\n"
   ]
  },
  {
   "cell_type": "markdown",
   "metadata": {},
   "source": [
    "### 12. Describe how list values and string values are identical.\n",
    "\n",
    "Sol:\n",
    "\n",
    "- Both can be indexed, sliced, and iterated over.\n",
    "- Both support concatenation (`+`) and replication (`*`).\n",
    "\n"
   ]
  },
  {
   "cell_type": "code",
   "execution_count": 10,
   "metadata": {},
   "outputs": [
    {
     "name": "stdout",
     "output_type": "stream",
     "text": [
      "b\n",
      "['a', 'b']\n",
      "['a', 'b', 'c', 'a', 'b', 'c']\n",
      "b\n",
      "ab\n",
      "abcabc\n"
     ]
    }
   ],
   "source": [
    "# Lists\n",
    "my_list = ['a', 'b', 'c']\n",
    "print(my_list[1])      # Output: 'b'\n",
    "print(my_list[:2])     # Output: ['a', 'b']\n",
    "print(my_list * 2)     # Output: ['a', 'b', 'c', 'a', 'b', 'c']\n",
    "\n",
    "# Strings\n",
    "my_string = \"abc\"\n",
    "print(my_string[1])    # Output: 'b'\n",
    "print(my_string[:2])   # Output: 'ab'\n",
    "print(my_string * 2)   # Output: 'abcabc'"
   ]
  },
  {
   "cell_type": "markdown",
   "metadata": {},
   "source": [
    "### 13. What's the difference between tuples and lists?\n",
    "\n",
    "Sol:\n",
    "\n",
    "- **Lists**: Mutable (can be changed).\n",
    "- **Tuples**: Immutable (cannot be changed).\n"
   ]
  },
  {
   "cell_type": "code",
   "execution_count": 11,
   "metadata": {},
   "outputs": [
    {
     "name": "stdout",
     "output_type": "stream",
     "text": [
      "[1, 99, 3]\n"
     ]
    }
   ],
   "source": [
    "# List\n",
    "my_list = [1, 2, 3]\n",
    "my_list[1] = 99\n",
    "print(my_list)  # Output: [1, 99, 3]\n",
    "\n",
    "# Tuple\n",
    "my_tuple = (1, 2, 3)\n",
    "# my_tuple[1] = 99  # This would raise a TypeError\n"
   ]
  },
  {
   "cell_type": "markdown",
   "metadata": {},
   "source": [
    "### 14. How do you type a tuple value that only contains the integer 42?\n",
    "\n",
    "Sol:\n",
    "\n",
    "Use a trailing comma: `(42,)`\n",
    "\n"
   ]
  },
  {
   "cell_type": "code",
   "execution_count": 12,
   "metadata": {},
   "outputs": [
    {
     "name": "stdout",
     "output_type": "stream",
     "text": [
      "<class 'tuple'>\n"
     ]
    }
   ],
   "source": [
    "my_tuple = (42,)\n",
    "print(type(my_tuple))  # Output: <class 'tuple'>\n"
   ]
  },
  {
   "cell_type": "markdown",
   "metadata": {},
   "source": [
    "### 15. How do you get a list value's tuple form? How do you get a tuple value's list form?\n",
    "\n",
    "Sol:\n",
    "\n",
    "- Convert list to tuple: `tuple(list_name)`\n",
    "- Convert tuple to list: `list(tuple_name)`\n",
    "\n"
   ]
  },
  {
   "cell_type": "code",
   "execution_count": 13,
   "metadata": {},
   "outputs": [
    {
     "name": "stdout",
     "output_type": "stream",
     "text": [
      "(1, 2, 3)\n",
      "[1, 2, 3]\n"
     ]
    }
   ],
   "source": [
    "# List to tuple\n",
    "my_list = [1, 2, 3]\n",
    "my_tuple = tuple(my_list)\n",
    "print(my_tuple)  # Output: (1, 2, 3)\n",
    "\n",
    "# Tuple to list\n",
    "my_tuple = (1, 2, 3)\n",
    "my_list = list(my_tuple)\n",
    "print(my_list)  # Output: [1, 2, 3]"
   ]
  },
  {
   "cell_type": "markdown",
   "metadata": {},
   "source": [
    "### 16. Variables that \"contain\" list values are not necessarily lists themselves. Instead, what do they contain?\n",
    "\n",
    "Sol:\n",
    "\n",
    "They contain **references** to the list objects in memory.\n"
   ]
  },
  {
   "cell_type": "markdown",
   "metadata": {},
   "source": [
    "### 17. How do you distinguish between copy.copy() and copy.deepcopy()?\n",
    "\n",
    "Sol:\n",
    "\n",
    "- `copy.copy()`: Creates a **shallow copy** of the object (only top-level is copied).\n",
    "- `copy.deepcopy()`: Creates a **deep copy** of the object (copies all levels, including nested objects)."
   ]
  },
  {
   "cell_type": "code",
   "execution_count": 14,
   "metadata": {},
   "outputs": [
    {
     "name": "stdout",
     "output_type": "stream",
     "text": [
      "[[99, 2], [3, 4]]\n",
      "[[1, 2], [3, 4]]\n"
     ]
    }
   ],
   "source": [
    "import copy\n",
    "\n",
    "# Shallow copy\n",
    "original = [[1, 2], [3, 4]]\n",
    "shallow_copy = copy.copy(original)\n",
    "shallow_copy[0][0] = 99\n",
    "print(original)  # Output: [[99, 2], [3, 4]]\n",
    "\n",
    "# Deep copy\n",
    "original = [[1, 2], [3, 4]]\n",
    "deep_copy = copy.deepcopy(original)\n",
    "deep_copy[0][0] = 99\n",
    "print(original)  # Output: [[1, 2], [3, 4]]\n"
   ]
  }
 ],
 "metadata": {
  "kernelspec": {
   "display_name": "Python 3",
   "language": "python",
   "name": "python3"
  },
  "language_info": {
   "codemirror_mode": {
    "name": "ipython",
    "version": 3
   },
   "file_extension": ".py",
   "mimetype": "text/x-python",
   "name": "python",
   "nbconvert_exporter": "python",
   "pygments_lexer": "ipython3",
   "version": "3.11.9"
  }
 },
 "nbformat": 4,
 "nbformat_minor": 2
}
