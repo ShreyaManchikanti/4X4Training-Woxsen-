{
 "cells": [
  {
   "cell_type": "markdown",
   "metadata": {},
   "source": [
    "### 1. What are keywords in python? Using the keyword library, print all the python keywords.\n",
    "\n",
    "Sol:\n",
    "\n",
    "Keywords in Python are reserved words that have a specific meaning and cannot be used as identifiers or variable names. Using the `keyword` library, we can print all Python keywords.\n"
   ]
  },
  {
   "cell_type": "code",
   "execution_count": 1,
   "metadata": {},
   "outputs": [
    {
     "name": "stdout",
     "output_type": "stream",
     "text": [
      "['False', 'None', 'True', 'and', 'as', 'assert', 'async', 'await', 'break', 'class', 'continue', 'def', 'del', 'elif', 'else', 'except', 'finally', 'for', 'from', 'global', 'if', 'import', 'in', 'is', 'lambda', 'nonlocal', 'not', 'or', 'pass', 'raise', 'return', 'try', 'while', 'with', 'yield']\n"
     ]
    }
   ],
   "source": [
    "import keyword\n",
    "\n",
    "print(keyword.kwlist)\n"
   ]
  },
  {
   "cell_type": "markdown",
   "metadata": {},
   "source": [
    "### 2. What are the rules to create variables in python?\n",
    "\n",
    "Sol:\n",
    "\n",
    "The rules for creating variables in Python are:\n",
    "\n",
    "- A variable name must start with a letter (a-z, A-Z) or an underscore (_).\n",
    "- It can be followed by letters, digits (0-9), or underscores.\n",
    "- Variable names are case-sensitive (e.g., myVar and myvar are different).\n",
    "- Reserved keywords cannot be used as variable names.\n"
   ]
  },
  {
   "cell_type": "markdown",
   "metadata": {},
   "source": [
    "### Q.3. What are the standards and conventions followed for the nomenclature of variables in python to improve code readability and maintainability?\n",
    "\n",
    "Sol:\n",
    "\n",
    "Common conventions for variable naming:\n",
    "\n",
    "- Lower case for simple variables (e.g., name, age).\n",
    "- Lower case with underscores for multi-word variables (e.g., first_name, last_name).\n",
    "- CamelCase for classes and methods (e.g., MyClass, myFunction).\n"
   ]
  },
  {
   "cell_type": "markdown",
   "metadata": {},
   "source": [
    "### Q.4. What will happen if a keyword is used as a variable name?\n",
    "\n",
    "Sol:\n",
    "\n",
    "If a keyword is used as a variable name, a `SyntaxError` will be raised, as keywords are reserved and cannot be used for any other purpose."
   ]
  },
  {
   "cell_type": "markdown",
   "metadata": {},
   "source": [
    "### Q.5. For what purpose def keyword is used?\n",
    "\n",
    "Sol:\n",
    "\n",
    "The `def` keyword is used to define a function in Python.\n"
   ]
  },
  {
   "cell_type": "markdown",
   "metadata": {},
   "source": [
    "### Q.6. What is the operation of this special character ‘\\’?\n",
    "\n",
    "Sol:\n",
    "\n",
    "The special character `\\` is an escape character in Python, used to escape special characters such as newline `(\\n)`, tab `(\\t)`, or other special characters.\n"
   ]
  },
  {
   "cell_type": "markdown",
   "metadata": {},
   "source": [
    "### Q.7. Give an example of the following conditions:\n",
    "    (i) Homogeneous list\n",
    "    (ii) Heterogeneous set\n",
    "    (iii) Homogeneous tuple\n",
    "\n",
    "\n",
    "Sol:\n",
    "\n",
    "- A homogeneous list contains elements of the same type.\n",
    "- A heterogeneous set contains elements of different types.\n",
    "-  A homogeneous tuple contains elements of the same type.\n",
    "\n",
    "\n"
   ]
  },
  {
   "cell_type": "code",
   "execution_count": null,
   "metadata": {},
   "outputs": [],
   "source": [
    "homogeneous_list = [1, 2, 3, 4, 5]\n",
    "\n",
    "heterogeneous_set = {1, 'hello', 3.5, True}\n",
    "\n",
    "homogeneous_tuple = (1, 2, 3, 4, 5)\n",
    "\n",
    "\n"
   ]
  },
  {
   "cell_type": "markdown",
   "metadata": {},
   "source": [
    "### Q.8. Explain the mutable and immutable data types with proper explanation & examples.\n",
    "\n",
    "Sol:\n",
    "\n",
    "- **Mutable** data types can be modified after creation (e.g., lists, dictionaries).\n",
    "\n",
    "- **Immutable** data types cannot be modified after creation (e.g., integers, strings, tuples).\n",
    "\n"
   ]
  },
  {
   "cell_type": "code",
   "execution_count": 2,
   "metadata": {},
   "outputs": [
    {
     "name": "stdout",
     "output_type": "stream",
     "text": [
      "[1, 2, 3, 4]\n"
     ]
    }
   ],
   "source": [
    "my_list = [1, 2, 3]\n",
    "my_list.append(4)  # Modification allowed\n",
    "print(my_list)    # Output: [1, 2, 3, 4]\n",
    "\n",
    "\n",
    "my_tuple = (1, 2, 3)\n",
    "# my_tuple[0] = 4  # This will raise a TypeError\n",
    "\n"
   ]
  },
  {
   "cell_type": "markdown",
   "metadata": {},
   "source": [
    "### Q.9. Write a code to create the given structure using only for loop.\n"
   ]
  },
  {
   "cell_type": "code",
   "execution_count": 3,
   "metadata": {},
   "outputs": [
    {
     "name": "stdout",
     "output_type": "stream",
     "text": [
      "    *\n",
      "   ***\n",
      "  *****\n",
      " *******\n",
      "*********\n"
     ]
    }
   ],
   "source": [
    "for i in range(1, 6):\n",
    "    print(' ' * (5 - i) + '*' * (2 * i - 1))\n"
   ]
  },
  {
   "cell_type": "markdown",
   "metadata": {},
   "source": [
    "### Q.10. Write a code to create the given structure using while loop."
   ]
  },
  {
   "cell_type": "code",
   "execution_count": 5,
   "metadata": {},
   "outputs": [
    {
     "name": "stdout",
     "output_type": "stream",
     "text": [
      "|||||||||\n",
      " |||||||\n",
      "  |||||\n",
      "   |||\n",
      "    |\n"
     ]
    }
   ],
   "source": [
    "# Total number of layers\n",
    "n = 5  \n",
    "i = n  # Start with the largest number of pipes\n",
    "\n",
    "while i > 0:\n",
    "    # Print spaces for alignment and then the pipes\n",
    "    print(' ' * (n - i) + '|' * (2 * i - 1))\n",
    "    i -= 1  # Decrease the number of pipes in the next row\n"
   ]
  }
 ],
 "metadata": {
  "kernelspec": {
   "display_name": "Python 3",
   "language": "python",
   "name": "python3"
  },
  "language_info": {
   "codemirror_mode": {
    "name": "ipython",
    "version": 3
   },
   "file_extension": ".py",
   "mimetype": "text/x-python",
   "name": "python",
   "nbconvert_exporter": "python",
   "pygments_lexer": "ipython3",
   "version": "3.11.9"
  }
 },
 "nbformat": 4,
 "nbformat_minor": 2
}
