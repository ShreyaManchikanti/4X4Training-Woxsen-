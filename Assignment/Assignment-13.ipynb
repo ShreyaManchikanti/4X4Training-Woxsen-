{
 "cells": [
  {
   "cell_type": "markdown",
   "metadata": {},
   "source": [
    "\n",
    "# Python Basic - 2"
   ]
  },
  {
   "cell_type": "markdown",
   "metadata": {},
   "source": [
    "\n",
    "### Q.1. Create two int type variables, apply addition, subtraction, division and multiplications and store the results in variables. Then print the data in the following format by calling the variables:\n",
    "    First variable is __ & second variable is __.\n",
    "    Addition: __ + __ = __\n",
    "    Subtraction: __ - __ = __\n",
    "    Multiplication: __ * __ = __\n",
    "    Division: __ / __ = __\n",
    "\n",
    "\n",
    "Sol:\n"
   ]
  },
  {
   "cell_type": "code",
   "execution_count": 1,
   "metadata": {},
   "outputs": [
    {
     "name": "stdout",
     "output_type": "stream",
     "text": [
      "First variable is 12 & second variable is 4.\n",
      "Addition: 12 + 4 = 16\n",
      "Subtraction: 12 - 4 = 8\n",
      "Multiplication: 12 * 4 = 48\n",
      "Division: 12 / 4 = 3.0\n"
     ]
    }
   ],
   "source": [
    "# Define two int variables\n",
    "a = 12\n",
    "b = 4\n",
    "\n",
    "# Perform operations\n",
    "addition = a + b\n",
    "subtraction = a - b\n",
    "multiplication = a * b\n",
    "division = a / b\n",
    "\n",
    "# Print the results\n",
    "print(f\"First variable is {a} & second variable is {b}.\")\n",
    "print(f\"Addition: {a} + {b} = {addition}\")\n",
    "print(f\"Subtraction: {a} - {b} = {subtraction}\")\n",
    "print(f\"Multiplication: {a} * {b} = {multiplication}\")\n",
    "print(f\"Division: {a} / {b} = {division}\")\n"
   ]
  },
  {
   "cell_type": "markdown",
   "metadata": {},
   "source": [
    "### Q.2. What is the difference between the following operators:\n",
    "    (i) ‘/’ & ‘//’\n",
    "    (ii) ‘**’ & ‘^’\n",
    "\n",
    "Sol:\n",
    "\n",
    "(i) '/' & '//'\n",
    "\n",
    "- `/` performs floating-point division and always returns a float.\n",
    "    - Example: 10 / 3 → 3.3333\n",
    "- `//` performs floor division and returns the largest integer less than or equal to the division result.\n",
    "    - Example: 10 // 3 → 3\n",
    "\n",
    "\n",
    "(ii) '**' & '^'\n",
    "\n",
    "- `**` is the exponentiation operator, used to raise one number to the power of another.\n",
    "- Example: 2 ** 3 → 8\n",
    "- `^` is the bitwise XOR operator, used to compare each bit of two numbers.\n",
    "- Example: 5 ^ 3 → 6 (binary: 101 XOR 011 = 110)"
   ]
  },
  {
   "cell_type": "markdown",
   "metadata": {},
   "source": [
    "### Q.3. List the logical operators.\n",
    "\n",
    "Sol:\n",
    "\n",
    "The three logical operators in Python are:\n",
    "\n",
    "- `and`: Returns True if both conditions are True.\n",
    "- `or`: Returns True if at least one condition is True.\n",
    "- `not`: Reverses the logical state of its operand.\n",
    "\n"
   ]
  },
  {
   "cell_type": "markdown",
   "metadata": {},
   "source": [
    "### Q.4. Explain right shift operator and left shift operator with examples.\n",
    "\n",
    "Sol:\n",
    "\n",
    "- Right shift operator (`>>`): Shifts the bits of a number to the right by a specified number of positions. Each shift to the right divides the number by 2.\n",
    "\n",
    "- Left shift operator (`<<`): Shifts the bits of a number to the left by a specified number of positions. Each shift to the left multiplies the number by 2.\n"
   ]
  },
  {
   "cell_type": "code",
   "execution_count": 4,
   "metadata": {},
   "outputs": [
    {
     "name": "stdout",
     "output_type": "stream",
     "text": [
      "Right shift operator (<<)\n",
      "4\n",
      "2\n",
      "Left shift operator (<<)\n",
      "4\n",
      "8\n"
     ]
    }
   ],
   "source": [
    "print(\"Right shift operator (<<)\")\n",
    "num = 8  # Binary: 1000\n",
    "print(num >> 1)  # Output: 4 (Binary: 0100)\n",
    "print(num >> 2)  # Output: 2 (Binary: 0010)\n",
    "\n",
    "\n",
    "print(\"Left shift operator (<<)\")\n",
    "num = 2  # Binary: 0010\n",
    "print(num << 1)  # Output: 4 (Binary: 0100)\n",
    "print(num << 2)  # Output: 8 (Binary: 1000)\n"
   ]
  },
  {
   "cell_type": "markdown",
   "metadata": {},
   "source": [
    "### Q.5. Create a list containing int type data of length 15. Then write a code to check if 10 is present in the list or not.\n",
    "\n",
    "Sol:\n"
   ]
  },
  {
   "cell_type": "code",
   "execution_count": 3,
   "metadata": {},
   "outputs": [
    {
     "name": "stdout",
     "output_type": "stream",
     "text": [
      "10 is present in the list.\n"
     ]
    }
   ],
   "source": [
    "# Create a list of integers\n",
    "numbers = [1, 3, 5, 7, 9, 10, 12, 14, 16, 18, 20, 22, 24, 26, 28]\n",
    "\n",
    "# Check if 10 is in the list\n",
    "if 10 in numbers:\n",
    "    print(\"10 is present in the list.\")\n",
    "else:\n",
    "    print(\"10 is not present in the list.\")\n"
   ]
  }
 ],
 "metadata": {
  "kernelspec": {
   "display_name": "Python 3",
   "language": "python",
   "name": "python3"
  },
  "language_info": {
   "codemirror_mode": {
    "name": "ipython",
    "version": 3
   },
   "file_extension": ".py",
   "mimetype": "text/x-python",
   "name": "python",
   "nbconvert_exporter": "python",
   "pygments_lexer": "ipython3",
   "version": "3.11.9"
  }
 },
 "nbformat": 4,
 "nbformat_minor": 2
}
